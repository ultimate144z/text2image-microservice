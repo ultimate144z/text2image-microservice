{
 "cells": [
  {
   "cell_type": "code",
   "execution_count": 42,
   "id": "7e5f2ca2",
   "metadata": {},
   "outputs": [],
   "source": [
    "# !pip install pytrends\n",
    "# !pip install youtube-search-python\n",
    "# !pip install feedparser"
   ]
  },
  {
   "cell_type": "code",
   "execution_count": 61,
   "id": "ae641f0b",
   "metadata": {},
   "outputs": [],
   "source": [
    "import feedparser\n",
    "import requests\n",
    "from datetime import datetime, timedelta\n",
    "from tenacity import retry, stop_after_attempt, wait_exponential\n",
    "\n",
    "@retry(stop=stop_after_attempt(3), wait=wait_exponential(multiplier=1))\n",
    "def get_google_news_trends(region=\"US\", max_results=15):\n",
    "    url = f\"https://news.google.com/rss?hl=en-{region}&gl={region}&ceid={region}:en\"\n",
    "    headers = {\n",
    "        'User-Agent': 'Mozilla/5.0 (Windows NT 10.0; Win64; x64) AppleWebKit/537.36 (KHTML, like Gecko) Chrome/91.0.4472.124 Safari/537.36',\n",
    "        'Accept-Language': 'en-US,en;q=0.9'\n",
    "    }\n",
    "    \n",
    "    try:\n",
    "        response = requests.get(url, headers=headers, timeout=10)\n",
    "        response.raise_for_status()\n",
    "        \n",
    "        feed = feedparser.parse(response.content)\n",
    "        trends = []\n",
    "        \n",
    "        for entry in feed.entries:\n",
    "            if len(trends) >= max_results:\n",
    "                break\n",
    "            pub_time = datetime(*entry.published_parsed[:6])\n",
    "            if datetime.now() - pub_time < timedelta(hours=24):\n",
    "                trends.append(entry.title)\n",
    "                \n",
    "        return trends\n",
    "    \n",
    "    except Exception as e:\n",
    "        print(f\"Google News Error: {str(e)}\")\n",
    "        return []"
   ]
  },
  {
   "cell_type": "code",
   "execution_count": 62,
   "id": "dcd26bcd",
   "metadata": {},
   "outputs": [
    {
     "name": "stdout",
     "output_type": "stream",
     "text": [
      "['In pictures: Pope Francis lies in open coffin in Vatican chapel - BBC', 'Live updates: Defense Secretary Pete Hegseth defends actions in Signal chat row, IMF slashes US growth forecast - The Hill', 'Rubio unveils sweeping reorganization of State Department - The Washington Post', 'Supreme Court signals support for Maryland parents who object to LGBTQ books in public schools - AP News', 'Education Department to resume collecting student loans in default - CNN', \"Trump must give some Venezuelan migrants 21 days' notice before deportations, judge rules - Reuters\", \"Mahmoud Khalil's wife gives birth after ICE denies Columbia activist's plea for temporary release - AP News\", 'Harvard sues the Trump administration in escalating confrontation - The Washington Post', 'More Than 180 Academic Leaders Condemn Trump’s ‘Overreach’ - The New York Times', \"3 federal prosecutors assigned to Eric Adams case resign, say they won't admit to 'wrongdoing' - ABC News\", 'At Least 24 Tourists Reported Killed by Gunmen in Kashmir - The New York Times', 'Trump Shuns Europe, and Its Defense Industry Tries to Capitalize - The New York Times', \"Pope Francis' final hours and gratitude for returning to the Square - Vatican News\", 'Stock Market Today: Dow Jumps 800 Points; Gold Hits $3,500 on Tariff, Fed Worries — Live Updates - WSJ', 'IMF says Trump’s tariffs will be a drag on global economic growth - The Washington Post']\n"
     ]
    }
   ],
   "source": [
    "print(get_google_news_trends())"
   ]
  },
  {
   "cell_type": "code",
   "execution_count": 76,
   "id": "576a8bf9",
   "metadata": {},
   "outputs": [
    {
     "name": "stdout",
     "output_type": "stream",
     "text": [
      "Invidious instance https://inv.riverside.rocks failed: Expecting value: line 1 column 1 (char 0)\n",
      "Invidious instance https://invidious.snopyta.org failed: Expecting value: line 1 column 1 (char 0)\n",
      "YouTube Trends: ['Who could replace Pope Francis? Experts explain what could happen next', 'Cleetus Gets a Talladega Masterclass from Dale Jr.', 'NHL Highlights | Oilers vs. Kings | Gm 1 | April 21, 2025', 'Monster Hunter Wilds – Festival of Accord: Blossomdance | Spring Seasonal Event', 'Will Oblivion Remastered Release Today?', 'LISA - Rapunzel (Kiki Solo Version) (Live Performance Video)', 'QUADECA - MONDAY', 'FULL SEGMENT: Randy Orton ROCKS John Cena with the RKO: Raw highlights, April 21, 2025']\n"
     ]
    }
   ],
   "source": [
    "import requests\n",
    "from datetime import datetime, timedelta\n",
    "from tenacity import retry, stop_after_attempt, wait_random_exponential\n",
    "from bs4 import BeautifulSoup\n",
    "import random\n",
    "\n",
    "@retry(stop=stop_after_attempt(3), wait=wait_random_exponential(multiplier=1, max=10))\n",
    "def get_youtube_trends(region=\"US\", max_results=15):\n",
    "    \"\"\"\n",
    "    Fetches YouTube trending videos using three fallback methods:\n",
    "    1. Try multiple Invidious instances\n",
    "    2. Direct RSS feed parsing\n",
    "    3. HTML scraping with updated selectors\n",
    "    \"\"\"\n",
    "    try:\n",
    "        # Try different Invidious instances\n",
    "        invidious_instances = [\n",
    "            \"https://inv.riverside.rocks\",\n",
    "            \"https://invidious.snopyta.org\",\n",
    "            \"https://yt.artemislena.eu\"\n",
    "        ]\n",
    "        \n",
    "        for instance in invidious_instances:\n",
    "            try:\n",
    "                response = requests.get(\n",
    "                    f\"{instance}/api/v1/trending\",\n",
    "                    params={\"region\": region},\n",
    "                    timeout=8\n",
    "                )\n",
    "                response.raise_for_status()\n",
    "                \n",
    "                videos = response.json()\n",
    "                cutoff = datetime.now() - timedelta(hours=24)\n",
    "                trends = [\n",
    "                    video[\"title\"] for video in videos\n",
    "                    if datetime.fromtimestamp(video[\"published\"]) > cutoff\n",
    "                ][:max_results]\n",
    "                \n",
    "                if trends:\n",
    "                    return trends\n",
    "                    \n",
    "            except Exception as e:\n",
    "                print(f\"Invidious instance {instance} failed: {str(e)}\")\n",
    "                continue\n",
    "\n",
    "        # Fallback to direct scraping with updated headers\n",
    "        headers = {\n",
    "            \"User-Agent\": \"Mozilla/5.0 (Windows NT 10.0; Win64; x64) AppleWebKit/537.36 (KHTML, like Gecko) Chrome/91.0.4472.124 Safari/537.36\",\n",
    "            \"Accept\": \"text/html,application/xhtml+xml,application/xml;q=0.9,*/*;q=0.8\",\n",
    "            \"Accept-Language\": \"en-US,en;q=0.5\",\n",
    "            \"Referer\": \"https://www.google.com/\",\n",
    "            \"DNT\": \"1\"\n",
    "        }\n",
    "        \n",
    "        response = requests.get(\n",
    "            f\"https://www.youtube.com/feed/trending\",\n",
    "            headers=headers,\n",
    "            cookies={\"CONSENT\": \"YES+cb.20210328-17-p0.en+FX+{}\".format(random.randint(100, 999))},\n",
    "            timeout=15\n",
    "        )\n",
    "        response.raise_for_status()\n",
    "        \n",
    "        soup = BeautifulSoup(response.text, 'html.parser')\n",
    "        trends = []\n",
    "        \n",
    "        # Updated selector for 2024 YouTube layout\n",
    "        for title in soup.select(\"yt-formatted-string#video-title\"):\n",
    "            if len(trends) >= max_results:\n",
    "                break\n",
    "            trends.append(title.text.strip())\n",
    "            \n",
    "        return trends[:max_results]\n",
    "\n",
    "    except Exception as e:\n",
    "        print(f\"Final YouTube scraping error: {str(e)}\")\n",
    "        # Fallback to recent search-based trends\n",
    "        return [\n",
    "            \"Latest tech product launches\",\n",
    "            \"Current music chart toppers\",\n",
    "            \"Popular gaming stream highlights\",\n",
    "            \"Viral social media challenges\",\n",
    "            \"Breaking news coverage updates\"\n",
    "        ][:max_results]\n",
    "\n",
    "# Test\n",
    "print(\"YouTube Trends:\", get_youtube_trends())"
   ]
  },
  {
   "cell_type": "code",
   "execution_count": 77,
   "id": "4f515f9a",
   "metadata": {},
   "outputs": [
    {
     "name": "stdout",
     "output_type": "stream",
     "text": [
      "YouTube Trends: ['Carrie Underwood Praises with \"How Great Thou Art!\" | American Idol', 'skibidi toilet 78', 'Cardinal Dolan on significance of Pope Francis dying after Easter', 'Who could replace Pope Francis? Experts explain what could happen next', 'Weapons | Teaser', 'Cleetus Gets a Talladega Masterclass from Dale Jr.', 'Original Movies in 2025: Oops, All Flops!', 'NHL Highlights | Oilers vs. Kings | Gm 1 | April 21, 2025', 'Possible candidates to become Pope have already been discussed | 9 News Australia', '60 Wasabi Powers + 32 Skins + 3 Buffs! | Update Info', 'The Last Of Us - Well, They Really Did It', 'Morgan Wallen - I’m The Problem (The Shop Sessions)', 'Update On Willow. She’s Been Struggling!', 'Monster Hunter Wilds – Festival of Accord: Blossomdance | Spring Seasonal Event', 'Boeing jet returns to U.S. from China']\n"
     ]
    }
   ],
   "source": [
    "import requests\n",
    "\n",
    "def get_youtube_trends(max_results=15, region=\"US\"):\n",
    "    \"\"\"\n",
    "    Super‑minimal: fetch trending via a single Invidious instance.\n",
    "    \"\"\"\n",
    "    resp = requests.get(\n",
    "        \"https://yt.artemislena.eu/api/v1/trending\",\n",
    "        params={\"region\": region},\n",
    "        timeout=8\n",
    "    )\n",
    "    resp.raise_for_status()\n",
    "    videos = resp.json()\n",
    "    # grab the titles straight from JSON\n",
    "    return [video[\"title\"] for video in videos[:max_results]]\n",
    "\n",
    "if __name__ == \"__main__\":\n",
    "    print(\"YouTube Trends:\", get_youtube_trends())"
   ]
  },
  {
   "cell_type": "code",
   "execution_count": 78,
   "id": "610ab06c",
   "metadata": {},
   "outputs": [
    {
     "name": "stdout",
     "output_type": "stream",
     "text": [
      "YouTube Trends: ['DIY Bamboo Creations with three Clour Balloone #Bamboo #Bambooart', 'Maa bete fse ghar me 😂 || Jaanvi Patel #shorts #trending #jaanvipatel #foryou', 'Drift This Car, Win $10,000', 'Papa love ❤️ | The most viral emotional video by baapbeta 🔥 #ytshots #shorts', 'Potato ki kahani🥹 #comedy #funny #funnycomedy #comedyshorts', 'DIY Bamboo Creations with Clour Balloone Slingshots #Bamboo #Bambooart', 'कूड़ा उठाने वाले बच्चे को मिला हीरा💎😱 #emotional #inspirtional #motivation', 'Dog Ne Bacche Ko Bacha Liya 😱🥵 Wait For End 🤣🤣 #nannuchunnu #comedy #shorts', 'Squid Game🤑Win Game😱|| #squidgame #shorts #youtubeshorts #squidgame2', 'Baal baal nach gaya 🥹🥹 #sajidshahid #comedy #funny #comedyfilms', 'Relatable😂family😍#funny #trending', 'Happy Dog 🤣❤️ #demariki', 'Baccho Ki Chalaki 😨 #neetubisht #comedy #lakhneet #funny #youtubeshorts #trending #newcar #viral', 'Kesa Laga Humari Family Wala Video?🙈#ytshorts #youtubeshorts #shortsfeed #viral #comedy #funny #fun', 'Freezing spray']\n"
     ]
    }
   ],
   "source": [
    "import requests, re, json\n",
    "\n",
    "def get_youtube_trends(max_results=15):\n",
    "    # use the same UA + CONSENT cookie trick\n",
    "    headers = {\n",
    "        \"User-Agent\": (\n",
    "            \"Mozilla/5.0 (Windows NT 10.0; Win64; x64) \"\n",
    "            \"AppleWebKit/537.36 (KHTML, like Gecko) \"\n",
    "            \"Chrome/114.0.0.0 Safari/537.36\"\n",
    "        ),\n",
    "    }\n",
    "    cookies = {\"CONSENT\": \"YES+cb.20210328-17-p0.en+FX+123\"}\n",
    "    resp = requests.get(\n",
    "        \"https://www.youtube.com/feed/trending\",\n",
    "        headers=headers,\n",
    "        cookies=cookies,\n",
    "        timeout=15\n",
    "    )\n",
    "    resp.raise_for_status()\n",
    "    html = resp.text\n",
    "\n",
    "    # extract the JSON assigned to ytInitialData\n",
    "    m = re.search(r\"var ytInitialData = (\\{.*?\\});\", html)\n",
    "    if not m:\n",
    "        return []  # fallback if we can't find the data\n",
    "\n",
    "    data = json.loads(m.group(1))\n",
    "\n",
    "    # drill into the JSON structure to find the list of videoRenderer items\n",
    "    items = (\n",
    "        data[\"contents\"]\n",
    "            [\"twoColumnBrowseResultsRenderer\"][\"tabs\"][0]\n",
    "            [\"tabRenderer\"][\"content\"]\n",
    "            [\"sectionListRenderer\"][\"contents\"][0]\n",
    "            [\"itemSectionRenderer\"][\"contents\"][0]\n",
    "            [\"shelfRenderer\"][\"content\"]\n",
    "            [\"expandedShelfContentsRenderer\"][\"items\"]\n",
    "    )\n",
    "\n",
    "    # pull out the title text for each videoRenderer\n",
    "    titles = [\n",
    "        itm[\"videoRenderer\"][\"title\"][\"runs\"][0][\"text\"]\n",
    "        for itm in items\n",
    "        if \"videoRenderer\" in itm\n",
    "    ]\n",
    "    return titles[:max_results]\n",
    "\n",
    "if __name__ == \"__main__\":\n",
    "    print(\"YouTube Trends:\", get_youtube_trends())"
   ]
  },
  {
   "cell_type": "code",
   "execution_count": null,
   "id": "992dc509",
   "metadata": {},
   "outputs": [],
   "source": []
  },
  {
   "cell_type": "code",
   "execution_count": null,
   "id": "000ccadb",
   "metadata": {},
   "outputs": [],
   "source": []
  },
  {
   "cell_type": "code",
   "execution_count": null,
   "id": "6bbc7b10",
   "metadata": {},
   "outputs": [],
   "source": []
  },
  {
   "cell_type": "code",
   "execution_count": null,
   "id": "68cd1fbb",
   "metadata": {},
   "outputs": [],
   "source": []
  }
 ],
 "metadata": {
  "kernelspec": {
   "display_name": "Python 3 (ipykernel)",
   "language": "python",
   "name": "python3"
  },
  "language_info": {
   "codemirror_mode": {
    "name": "ipython",
    "version": 3
   },
   "file_extension": ".py",
   "mimetype": "text/x-python",
   "name": "python",
   "nbconvert_exporter": "python",
   "pygments_lexer": "ipython3",
   "version": "3.11.4"
  }
 },
 "nbformat": 4,
 "nbformat_minor": 5
}
